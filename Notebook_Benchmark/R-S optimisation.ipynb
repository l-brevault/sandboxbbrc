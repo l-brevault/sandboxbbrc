{
 "cells": [
  {
   "cell_type": "code",
   "execution_count": 1,
   "metadata": {},
   "outputs": [],
   "source": [
    "import openturns as ot\n",
    "import numpy as np"
   ]
  },
  {
   "cell_type": "code",
   "execution_count": 2,
   "metadata": {},
   "outputs": [
    {
     "data": {
      "text/html": [
       "<p>[1]</p>"
      ],
      "text/plain": [
       "class=Point name=Unnamed dimension=1 values=[1]"
      ]
     },
     "execution_count": 2,
     "metadata": {},
     "output_type": "execute_result"
    }
   ],
   "source": [
    "R = ot.Normal(4., 1.)\n",
    "R.setDescription(\"R\")\n",
    "\n",
    "S = ot.Normal(2., 1.)\n",
    "S.setDescription(\"S\")\n",
    "R.getMean()\n",
    "R.getStandardDeviation()"
   ]
  },
  {
   "cell_type": "code",
   "execution_count": 3,
   "metadata": {},
   "outputs": [],
   "source": [
    "Ur = (R - R.getMean()[0])/R.getStandardDeviation()[0]\n",
    "Us = (S - S.getMean()[0])/S.getStandardDeviation()[0]"
   ]
  },
  {
   "cell_type": "code",
   "execution_count": 4,
   "metadata": {},
   "outputs": [],
   "source": [
    "levelFunction = ot.SymbolicFunction( ['u1', 'u2'], [str(R.getMean()[0])+'+'+str(R.getStandardDeviation()[0])\n",
    "                                                    +'*u1 -'+str(S.getMean()[0])+'-'+str(S.getStandardDeviation()[0])+'*u2'])\n",
    "problem = ot.NearestPointProblem(levelFunction, 0)"
   ]
  },
  {
   "cell_type": "code",
   "execution_count": 5,
   "metadata": {},
   "outputs": [],
   "source": [
    "Distribution=ot.ComposedDistribution([Ur, Us])\n",
    "startingPoints = Distribution.getSample(1)"
   ]
  },
  {
   "cell_type": "code",
   "execution_count": 6,
   "metadata": {},
   "outputs": [
    {
     "data": {
      "text/html": [
       "<p>[-1,1]</p>"
      ],
      "text/plain": [
       "class=Point name=Unnamed dimension=2 values=[-1,1]"
      ]
     },
     "execution_count": 6,
     "metadata": {},
     "output_type": "execute_result"
    }
   ],
   "source": [
    "algo = ot.AbdoRackwitz(problem)\n",
    "algo.setStartingPoint([1.0] * 2)\n",
    "algo.run()\n",
    "result = algo.getResult()\n",
    "result.getOptimalPoint()\n",
    "uu = result.getOptimalPoint()\n",
    "uu"
   ]
  },
  {
   "cell_type": "code",
   "execution_count": 7,
   "metadata": {},
   "outputs": [],
   "source": [
    "g = ot.SymbolicFunction([\"R\",\"S\"],[\"R - S\"])"
   ]
  },
  {
   "cell_type": "code",
   "execution_count": 8,
   "metadata": {},
   "outputs": [],
   "source": [
    "inputvector = ot.ComposedDistribution([R,S])\n",
    "inputRV = ot.RandomVector(inputvector)\n",
    "outputRV = ot.CompositeRandomVector(g, inputRV)\n",
    "eventF = ot.Event(outputRV, ot.GreaterOrEqual(), 0) "
   ]
  },
  {
   "cell_type": "code",
   "execution_count": 9,
   "metadata": {},
   "outputs": [
    {
     "data": {
      "text/plain": [
       "1.414213562373095"
      ]
     },
     "execution_count": 9,
     "metadata": {},
     "output_type": "execute_result"
    }
   ],
   "source": [
    "solver = ot.AbdoRackwitz()\n",
    "algo = ot.FORM(solver, eventF, [1.0, 1.0])\n",
    "algo.run()\n",
    "result = algo.getResult()\n",
    "result.getEventProbability()\n",
    "result.getHasoferReliabilityIndex()"
   ]
  },
  {
   "cell_type": "code",
   "execution_count": 10,
   "metadata": {},
   "outputs": [
    {
     "data": {
      "text/plain": [
       "1.4142135623730951"
      ]
     },
     "execution_count": 10,
     "metadata": {},
     "output_type": "execute_result"
    }
   ],
   "source": [
    "np.sqrt(uu[0]**2 + uu[1]**2)"
   ]
  }
 ],
 "metadata": {
  "kernelspec": {
   "display_name": "Python 3",
   "language": "python",
   "name": "python3"
  },
  "language_info": {
   "codemirror_mode": {
    "name": "ipython",
    "version": 3
   },
   "file_extension": ".py",
   "mimetype": "text/x-python",
   "name": "python",
   "nbconvert_exporter": "python",
   "pygments_lexer": "ipython3",
   "version": "3.7.4"
  }
 },
 "nbformat": 4,
 "nbformat_minor": 2
}
